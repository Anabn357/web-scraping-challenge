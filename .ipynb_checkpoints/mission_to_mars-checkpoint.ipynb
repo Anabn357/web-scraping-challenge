{
 "cells": [
  {
   "cell_type": "markdown",
   "metadata": {},
   "source": [
    "# Scraping"
   ]
  },
  {
   "cell_type": "code",
   "execution_count": 67,
   "metadata": {},
   "outputs": [],
   "source": [
    "from bs4 import BeautifulSoup\n",
    "from splinter import Browser\n",
    "from urllib.parse import urlsplit\n",
    "import requests\n",
    "import pandas as pd\n",
    "import os\n",
    "import time\n",
    "import shutil\n",
    "from IPython.display import Image"
   ]
  },
  {
   "cell_type": "code",
   "execution_count": 68,
   "metadata": {},
   "outputs": [],
   "source": [
    "# Import Splinter and set the chromedriver path\n",
    "executable_path = {\"executable_path\": \"chromedriver.exe\"}\n",
    "browser = Browser(\"chrome\", **executable_path, headless=False)"
   ]
  },
  {
   "cell_type": "markdown",
   "metadata": {},
   "source": [
    "# NASA Mars News"
   ]
  },
  {
   "cell_type": "code",
   "execution_count": 73,
   "metadata": {},
   "outputs": [],
   "source": [
    "url = \"https://mars.nasa.gov/news/\"\n",
    "browser.visit(url)\n",
    "html = browser.html\n",
    "soup = BeautifulSoup(html, 'html.parser')"
   ]
  },
  {
   "cell_type": "code",
   "execution_count": 74,
   "metadata": {},
   "outputs": [
    {
     "name": "stdout",
     "output_type": "stream",
     "text": [
      "Title: Mars Now\n",
      "Para: The NASA rover touched down eight years ago, on Aug. 5, 2012, and will soon be joined by a second rover, Perseverance.\n"
     ]
    }
   ],
   "source": [
    "news_title = soup.find(\"div\",class_=\"content_title\").text\n",
    "news_paragraph = soup.find(\"div\", class_=\"article_teaser_body\").text\n",
    "print(f\"Title: {news_title}\")\n",
    "print(f\"Para: {news_paragraph}\")"
   ]
  },
  {
   "cell_type": "markdown",
   "metadata": {},
   "source": [
    "# JPL Mars Space Images - Featured Image"
   ]
  },
  {
   "cell_type": "code",
   "execution_count": 75,
   "metadata": {},
   "outputs": [],
   "source": [
    "url_image = \"https://www.jpl.nasa.gov/spaceimages/?search=&category=featured#submit\"\n",
    "browser.visit(url_image)"
   ]
  },
  {
   "cell_type": "code",
   "execution_count": 76,
   "metadata": {},
   "outputs": [
    {
     "name": "stdout",
     "output_type": "stream",
     "text": [
      "https://www.jpl.nasa.gov/\n"
     ]
    }
   ],
   "source": [
    "base_url = \"{0.scheme}://{0.netloc}/\".format(urlsplit(url_image))\n",
    "print(base_url)"
   ]
  },
  {
   "cell_type": "code",
   "execution_count": 77,
   "metadata": {},
   "outputs": [],
   "source": [
    "xpath = \"//*[@id=\\\"page\\\"]/section[3]/div/ul/li[1]/a/div/div[2]/img\""
   ]
  },
  {
   "cell_type": "code",
   "execution_count": 78,
   "metadata": {},
   "outputs": [],
   "source": [
    "results = browser.find_by_xpath(xpath)\n",
    "img = results[0]\n",
    "img.click()"
   ]
  },
  {
   "cell_type": "code",
   "execution_count": 79,
   "metadata": {},
   "outputs": [
    {
     "name": "stdout",
     "output_type": "stream",
     "text": [
      "https://www.jpl.nasa.gov//spaceimages/images/largesize/PIA23436_hires.jpg\n"
     ]
    }
   ],
   "source": [
    "html_image = browser.html\n",
    "soup = BeautifulSoup(html_image, \"html.parser\")\n",
    "img_url = soup.find(\"img\", class_=\"fancybox-image\")[\"src\"]\n",
    "full_img_url = base_url + img_url\n",
    "print(full_img_url)"
   ]
  },
  {
   "cell_type": "markdown",
   "metadata": {},
   "source": [
    "# Mars Weather"
   ]
  },
  {
   "cell_type": "code",
   "execution_count": 91,
   "metadata": {},
   "outputs": [],
   "source": [
    "url_weather = \"https://twitter.com/marswxreport?lang=en\"\n",
    "browser.visit(url_weather)"
   ]
  },
  {
   "cell_type": "code",
   "execution_count": 92,
   "metadata": {},
   "outputs": [
    {
     "name": "stdout",
     "output_type": "stream",
     "text": [
      "\n",
      "\n",
      "\n",
      "\n",
      "\n",
      "\n",
      "\n",
      "\n",
      "\n",
      "\n",
      "\n",
      "\n",
      "\n",
      "\n",
      "\n",
      "\n",
      "\n",
      "\n",
      "\n",
      "\n",
      "\n",
      "\n",
      "\n",
      "\n",
      "\n",
      "\n",
      "\n",
      "\n",
      "\n",
      "\n",
      "\n",
      "\n",
      "\n",
      "\n",
      "\n",
      "\n",
      "\n",
      "\n",
      "\n",
      "\n",
      "\n",
      "\n",
      "\n",
      "\n",
      "\n",
      "\n",
      "\n",
      "\n",
      "\n",
      "\n",
      "\n",
      "\n",
      "\n",
      "\n",
      "\n",
      "\n",
      "\n",
      "\n",
      "\n",
      "\n",
      "\n",
      "\n",
      "\n",
      "\n",
      "\n",
      "\n",
      "\n",
      "\n",
      "\n",
      "\n",
      "\n",
      "\n",
      "\n",
      "\n",
      "\n",
      "\n",
      "\n",
      "\n",
      "html,body{height: 100%;}body{-ms-overflow-style:scrollbar;overflow-y:scroll;overscroll-behavior-y:none;}\n",
      "[stylesheet-group=\"0\"]{}\n",
      "html{-ms-text-size-adjust:100%;-webkit-text-size-adjust:100%;-webkit-tap-highlight-color:rgba(0,0,0,0);}\n",
      "body{margin:0;}\n",
      "button::-moz-focus-inner,input::-moz-focus-inner{border:0;padding:0;}\n",
      "input::-webkit-inner-spin-button,input::-webkit-outer-spin-button,input::-webkit-search-cancel-button,input::-webkit-search-decoration,input::-webkit-search-results-button,input::-webkit-search-results-decoration{display:none;}\n",
      "[stylesheet-group=\"0.1\"]{}\n",
      ":focus:not([data-focusvisible-polyfill]){outline: none;}\n",
      "[stylesheet-group=\"1\"]{}\n",
      ".css-1dbjc4n{-ms-flex-align:stretch;-ms-flex-direction:column;-ms-flex-negative:0;-ms-flex-preferred-size:auto;-webkit-align-items:stretch;-webkit-box-align:stretch;-webkit-box-direction:normal;-webkit-box-orient:vertical;-webkit-flex-basis:auto;-webkit-flex-direction:column;-webkit-flex-shrink:0;align-items:stretch;border:0 solid black;box-sizing:border-box;display:-webkit-box;display:-moz-box;display:-ms-flexbox;display:-webkit-flex;display:flex;flex-basis:auto;flex-direction:column;flex-shrink:0;margin-bottom:0px;margin-left:0px;margin-right:0px;margin-top:0px;min-height:0px;min-width:0px;padding-bottom:0px;padding-left:0px;padding-right:0px;padding-top:0px;position:relative;z-index:0;}\n",
      ".css-901oao{border:0 solid black;box-sizing:border-box;color:rgba(0,0,0,1.00);display:inline;font:14px system-ui,-apple-system,BlinkMacSystemFont,\"Segoe UI\",Roboto,Ubuntu,\"Helvetica Neue\",sans-serif;margin-bottom:0px;margin-left:0px;margin-right:0px;margin-top:0px;padding-bottom:0px;padding-left:0px;padding-right:0px;padding-top:0px;white-space:pre-wrap;word-wrap:break-word;}\n",
      ".css-16my406{color:inherit;font:inherit;white-space:inherit;}\n",
      "[stylesheet-group=\"2\"]{}\n",
      ".r-13awgt0{-ms-flex-negative:1;-ms-flex-positive:1;-ms-flex-preferred-size:0%;-webkit-box-flex:1;-webkit-flex-basis:0%;-webkit-flex-grow:1;-webkit-flex-shrink:1;flex-basis:0%;flex-grow:1;flex-shrink:1;}\n",
      ".r-4qtqp9{display:inline-block;}\n",
      ".r-ywje51{margin-bottom:auto;margin-left:auto;margin-right:auto;margin-top:auto;}\n",
      ".r-hvic4v{display:none;}\n",
      ".r-1adg3ll{display:block;}\n",
      "[stylesheet-group=\"2.2\"]{}\n",
      ".r-12vffkv>*{pointer-events:auto;}\n",
      ".r-12vffkv{pointer-events:none!important;}\n",
      ".r-14lw9ot{background-color:rgba(255,255,255,1.00);}\n",
      ".r-1p0dtai{bottom:0px;}\n",
      ".r-1d2f490{left:0px;}\n",
      ".r-1xcajam{position:fixed;}\n",
      ".r-zchlnj{right:0px;}\n",
      ".r-ipm5af{top:0px;}\n",
      ".r-yyyyoo{fill:currentcolor;}\n",
      ".r-1xvli5t{height:1.25em;}\n",
      ".r-dnmrzs{max-width:100%;}\n",
      ".r-bnwqim{position:relative;}\n",
      ".r-1plcrui{vertical-align:text-bottom;}\n",
      ".r-lrvibr{-moz-user-select:none;-ms-user-select:none;-webkit-user-select:none;user-select:none;}\n",
      ".r-13gxpu9{color:rgba(29,161,242,1.00);}\n",
      ".r-wy61xf{height:72px;}\n",
      ".r-u8s1d{position:absolute;}\n",
      ".r-1blnp2b{width:72px;}\n",
      ".r-1ykxob0{top:60%;}\n",
      ".r-1b2b6em{line-height:2em;}\n",
      ".r-q4m81j{text-align:center;}\n",
      "Mars Weather (@MarsWxReport) / Twitter\n",
      "\n",
      "\n",
      "\n",
      "We've detected that JavaScript is disabled in your browser. Would you like to proceed to legacy Twitter?\n",
      "\n",
      "Yes\n",
      "\n",
      "\n",
      "\n",
      "\n",
      "Log inSign upSee new TweetsFollowMars Weather@MarsWxReportUpdates as avail from the REMS weather instrument aboard @MarsCuriosity.  Data credit: Centro deAstrobiologia, FMI, JPL/NASA, Not an official acct.Gale Crater, Marsmars.nasa.gov/news/8415/insi…Joined August 201253 Following57.5K FollowersTweetsTweets & repliesMediaLikes\n",
      "\n",
      "window.__INITIAL_STATE__ = {\"optimist\":[],\"featureSwitch\":{\"config\":{\"account_country_setting_countries_whitelist\":{\"value\":[\"ad\",\"ae\",\"af\",\"ag\",\"ai\",\"al\",\"am\",\"ao\",\"ar\",\"as\",\"at\",\"au\",\"aw\",\"ax\",\"az\",\"ba\",\"bb\",\"bd\",\"be\",\"bf\",\"bg\",\"bh\",\"bi\",\"bj\",\"bl\",\"bm\",\"bn\",\"bo\",\"bq\",\"br\",\"bs\",\"bt\",\"bv\",\"bw\",\"by\",\"bz\",\"ca\",\"cc\",\"cd\",\"cf\",\"cg\",\"ch\",\"ci\",\"ck\",\"cl\",\"cm\",\"co\",\"cr\",\"cu\",\"cv\",\"cw\",\"cx\",\"cy\",\"cz\",\"de\",\"dj\",\"dk\",\"dm\",\"do\",\"dz\",\"ec\",\"ee\",\"eg\",\"er\",\"es\",\"et\",\"fi\",\"fj\",\"fk\",\"fm\",\"fo\",\"fr\",\"ga\",\"gb\",\"gd\",\"ge\",\"gf\",\"gg\",\"gh\",\"gi\",\"gl\",\"gm\",\"gn\",\"gp\",\"gq\",\"gr\",\"gs\",\"gt\",\"gu\",\"gw\",\"gy\",\"hk\",\"hn\",\"hr\",\"ht\",\"hu\",\"id\",\"ie\",\"il\",\"im\",\"in\",\"io\",\"iq\",\"ir\",\"is\",\"it\",\"je\",\"jm\",\"jo\",\"jp\",\"ke\",\"kg\",\"kh\",\"ki\",\"km\",\"kn\",\"kr\",\"kw\",\"ky\",\"kz\",\"la\",\"lb\",\"lc\",\"li\",\"lk\",\"lr\",\"ls\",\"lt\",\"lu\",\"lv\",\"ly\",\"ma\",\"mc\",\"md\",\"me\",\"mf\",\"mg\",\"mh\",\"mk\",\"ml\",\"mn\",\"mo\",\"mp\",\"mq\",\"mr\",\"ms\",\"mt\",\"mu\",\"mv\",\"mw\",\"mx\",\"my\",\"mz\",\"na\",\"nc\",\"ne\",\"nf\",\"ng\",\"ni\",\"nl\",\"no\",\"np\",\"nr\",\"nu\",\"nz\",\"om\",\"pa\",\"pe\",\"pf\",\"pg\",\"ph\",\"pk\",\"pl\",\"pm\",\"pn\",\"pr\",\"ps\",\"pt\",\"pw\",\"py\",\"qa\",\"re\",\"ro\",\"rs\",\"ru\",\"rw\",\"sa\",\"sb\",\"sc\",\"se\",\"sg\",\"sh\",\"si\",\"sk\",\"sl\",\"sm\",\"sn\",\"so\",\"sr\",\"st\",\"sv\",\"sx\",\"sz\",\"tc\",\"td\",\"tf\",\"tg\",\"th\",\"tj\",\"tk\",\"tl\",\"tm\",\"tn\",\"to\",\"tr\",\"tt\",\"tv\",\"tw\",\"tz\",\"ua\",\"ug\",\"us\",\"uy\",\"uz\",\"va\",\"vc\",\"ve\",\"vi\",\"vn\",\"vu\",\"wf\",\"ws\",\"xk\",\"ye\",\"yt\",\"za\",\"zm\",\"zw\"]},\"author_moderated_replies_urt_container_enabled\":{\"value\":false},\"content_language_setting_enabled\":{\"value\":true},\"conversation_controls_highlighted_education_enabled\":{\"value\":false},\"conversation_controls_limited_replies_consumption_configuration\":{\"value\":\"no_reply\"},\"conversation_controls_limited_replies_creation_enabled\":{\"value\":false},\"dm_reactions_config_active_reactions\":{\"value\":[\"😂:funny\",\"😲:surprised\",\"😢:sad\",\"❤:like\",\"🔥:excited\",\"👍:agree\",\"👎:disagree\"]},\"dm_reactions_config_inactive_reactions\":{\"value\":[\"😠:angry\"]},\"guest_broadcasting_timeline_decorations_enabled\":{\"value\":true},\"hashflags_animation_like_button_enabled\":{\"value\":true},\"hashflags_animation_lottie_default_enabled\":{\"value\":false},\"home_timeline_latest_timeline_autoswitch_half_life_minutes\":{\"value\":43200},\"home_timeline_latest_timeline_autoswitch_threshold_multiplier\":{\"value\":2},\"home_timeline_latest_timeline_max_time_to_autoswitch_minutes\":{\"value\":5256000},\"home_timeline_latest_timeline_min_time_to_autoswitch_minutes\":{\"value\":5256000},\"home_timeline_latest_timeline_switch_enabled\":{\"value\":true},\"home_timeline_latest_timeline_threshold_to_increase_autoswitch_seconds\":{\"value\":60},\"home_timeline_spheres_copy_variant\":{\"value\":\"list_follow\"},\"home_timeline_spheres_custom_banner_image_reads_enabled\":{\"value\":true},\"home_timeline_spheres_detail_page_muting_enabled\":{\"value\":true},\"home_timeline_spheres_list_cell_thumbnail_enabled\":{\"value\":true},\"home_timeline_spheres_max_user_owned_or_subscribed_lists_count\":{\"value\":5},\"home_timeline_spheres_ranking_mode_control_enabled\":{\"value\":true},\"identity_verification_intake_enabled\":{\"value\":false},\"live_event_docking_enabled\":{\"value\":true},\"live_event_multi_video_auto_advance_dock_enabled\":{\"value\":true},\"live_event_multi_video_auto_advance_enabled\":{\"value\":true},\"live_event_multi_video_auto_advance_fullscreen_enabled\":{\"value\":false},\"live_event_multi_video_auto_advance_transition_duration_seconds\":{\"value\":5},\"live_event_multi_video_enabled\":{\"value\":true},\"live_event_timeline_default_refresh_rate_interval_seconds\":{\"value\":30},\"live_event_timeline_minimum_refresh_rate_interval_seconds\":{\"value\":10},\"live_event_timeline_server_controlled_refresh_rate_enabled\":{\"value\":true},\"live_event_vod_promoted_content_enabled\":{\"value\":true},\"livepipeline_client_enabled\":{\"value\":true},\"livepipeline_dm_features_enabled\":{\"value\":true},\"livepipeline_tweetengagement_enabled\":{\"value\":true},\"moment_annotations_enabled\":{\"value\":true},\"name_accessibility_unicode_detection_enabled\":{\"value\":false},\"navigation_stack_referrer_param_enabled\":{\"value\":true},\"network_layer_503_backoff_mode\":{\"value\":\"host\"},\"report_flow_id_enabled\":{\"value\":true},\"responsive_web_2fa_settings_change_copy_enabled\":{\"value\":true},\"responsive_web_alt_svc\":{\"value\":false},\"responsive_web_alt_text_badge_enabled\":{\"value\":false},\"responsive_web_api_transition_enabled\":{\"value\":false},\"responsive_web_auto_logout_multiaccount_enabled\":{\"value\":true},\"responsive_web_auto_logout_restrictedauthtoken_enabled\":{\"value\":true},\"responsive_web_auto_logout_twid_enabled\":{\"value\":true},\"responsive_web_birdwatch_consumption_enabled\":{\"value\":false},\"responsive_web_birdwatch_contribution_enabled\":{\"value\":false},\"responsive_web_branch_cpid_enabled\":{\"value\":true},\"responsive_web_branch_sdk_enabled\":{\"value\":true},\"responsive_web_broadcast_page_card_enabled\":{\"value\":true},\"responsive_web_card_preload_mode\":{\"value\":\"off\"},\"responsive_web_check_browser_support_enabled\":{\"value\":true},\"responsive_web_cleanup_macaw_swift_indexed_db\":{\"value\":true},\"responsive_web_continue_as_always_enabled\":{\"value\":false},\"responsive_web_continue_as_param_enabled\":{\"value\":true},\"responsive_web_conversation_tree_enabled\":{\"value\":false},\"responsive_web_conversation_tree_toggle\":{\"value\":false},\"responsive_web_csrf_clientside_enabled\":{\"value\":true},\"responsive_web_dark_mode_scrollbars_enabled\":{\"value\":false},\"responsive_web_dcm_2_enabled\":{\"value\":true},\"responsive_web_desktop_app_reload_hard_ttl\":{\"value\":86400000},\"responsive_web_desktop_app_reload_nightly_reset_enabled\":{\"value\":false},\"responsive_web_desktop_app_reload_soft_ttl\":{\"value\":86400000},\"responsive_web_dm_composer_media_toggle_enabled\":{\"value\":false},\"responsive_web_dm_health_convo_block_report_button_enabled\":{\"value\":false},\"responsive_web_dm_health_convo_group_changes_enabled\":{\"value\":false},\"responsive_web_dm_health_convo_inline_profile_info_enabled\":{\"value\":false},\"responsive_web_dm_health_inbox_request_cell_social_proof_enabled\":{\"value\":false},\"responsive_web_dm_quick_access_enabled\":{\"value\":true},\"responsive_web_dm_quick_access_no_empty_drawer_enabled\":{\"value\":true},\"responsive_web_dm_quick_access_with_close_enabled\":{\"value\":false},\"responsive_web_elevated_qt_label_configuration\":{\"value\":\"\"},\"responsive_web_eu_countries\":{\"value\":[\"at\",\"be\",\"bg\",\"ch\",\"cy\",\"cz\",\"de\",\"dk\",\"ee\",\"es\",\"fi\",\"fr\",\"gb\",\"gr\",\"hr\",\"hu\",\"ie\",\"is\",\"it\",\"li\",\"lt\",\"lu\",\"lv\",\"mt\",\"nl\",\"no\",\"pl\",\"pt\",\"ro\",\"se\",\"si\",\"sk\"]},\"responsive_web_explore_as_lohp_enabled\":{\"value\":false},\"responsive_web_explore_tab_followup_enabled\":{\"value\":true},\"responsive_web_extension_compatibility_hide\":{\"value\":false},\"responsive_web_extension_compatibility_impression_guard\":{\"value\":true},\"responsive_web_extension_compatibility_override_param\":{\"value\":false},\"responsive_web_extension_compatibility_scribe\":{\"value\":true},\"responsive_web_extension_compatibility_size_threshold\":{\"value\":50},\"responsive_web_fake_root_twitter_domain_for_testing\":{\"value\":false},\"responsive_web_feature_switch_dash_enabled\":{\"value\":false},\"responsive_web_fetch_hashflags_on_boot\":{\"value\":true},\"responsive_web_framerate_tracking_home_enabled\":{\"value\":false},\"responsive_web_graphql_amr_timeline\":{\"value\":false},\"responsive_web_graphql_dark_reads_probability\":{\"value\":0},\"responsive_web_graphql_list_crud\":{\"value\":true},\"responsive_web_graphql_list_management_timelines_enabled\":{\"value\":false},\"responsive_web_graphql_list_members_subscribers_enabled\":{\"value\":false},\"responsive_web_graphql_list_operations\":{\"value\":false},\"responsive_web_graphql_tweet_results\":{\"value\":false},\"responsive_web_graphql_user_everywhere\":{\"value\":true},\"responsive_web_graphql_user_results\":{\"value\":false},\"responsive_web_graphql_verify_credentials_enabled\":{\"value\":true},\"responsive_web_guest_token_reporting\":{\"value\":true},\"responsive_web_hide_media_previews_enabled\":{\"value\":false},\"responsive_web_history_tracker_enabled\":{\"value\":true},\"responsive_web_hoisting_anchor_invalidation_enabled\":{\"value\":false},\"responsive_web_home_wait_for_seenIds_enabled\":{\"value\":false},\"responsive_web_horizon_video_player_enabled\":{\"value\":true},\"responsive_web_hover_on_mousemove_enabled\":{\"value\":false},\"responsive_web_html_archive_renderer_enabled\":{\"value\":true},\"responsive_web_hw_cards_in_dms_enabled\":{\"value\":true},\"responsive_web_inline_reply_enabled\":{\"value\":false},\"responsive_web_inline_reply_with_fab_enabled\":{\"value\":false},\"responsive_web_instream_video_enabled\":{\"value\":true},\"responsive_web_instream_video_redesign_enabled\":{\"value\":false},\"responsive_web_list_hover_cards_enabled\":{\"value\":false},\"responsive_web_live_video_parity_periscope_auth_enabled\":{\"value\":false},\"responsive_web_login_input_type_email_enabled\":{\"value\":false},\"responsive_web_login_signup_sheet_app_install_cta_enabled\":{\"value\":true},\"responsive_web_media_upload_limit_2g\":{\"value\":250},\"responsive_web_media_upload_limit_3g\":{\"value\":1500},\"responsive_web_media_upload_limit_slow_2g\":{\"value\":150},\"responsive_web_media_upload_md5_hashing_enabled\":{\"value\":false},\"responsive_web_media_upload_target_jpg_pixels_per_byte\":{\"value\":1},\"responsive_web_menu_section_divider_enabled\":{\"value\":false},\"responsive_web_moment_maker_annotations_enabled\":{\"value\":false},\"responsive_web_moment_maker_enabled\":{\"value\":false},\"responsive_web_multiple_account_limit\":{\"value\":5},\"responsive_web_new_client_events_enabled\":{\"value\":false},\"responsive_web_ntab_verified_mentions_vit_internal_dogfood\":{\"value\":false},\"responsive_web_ocf_sms_autoverify_enabled\":{\"value\":false},\"responsive_web_promoted_trends_event_migration_enabled\":{\"value\":false},\"responsive_web_quick_promote_enabled\":{\"value\":false},\"responsive_web_redirect_to_app_enabled\":{\"value\":true},\"responsive_web_report_page_not_found\":{\"value\":false},\"responsive_web_rich_tweet_landing_enabled\":{\"value\":true},\"responsive_web_scheduling_edit_enabled\":{\"value\":false},\"responsive_web_scheduling_enabled\":{\"value\":false},\"responsive_web_scheduling_entry_point\":{\"value\":\"overflow\"},\"responsive_web_scroller_autopoll_enabled\":{\"value\":false},\"responsive_web_scroller_v3_enabled\":{\"value\":false},\"responsive_web_search_dms_enabled\":{\"value\":true},\"responsive_web_second_degree_replies_nudge_force_enabled\":{\"value\":false},\"responsive_web_second_degree_replies_nudge_get_enabled\":{\"value\":false},\"responsive_web_second_degree_replies_nudge_show_enabled\":{\"value\":false},\"responsive_web_serviceworker_safari_disabled\":{\"value\":false},\"responsive_web_settings_revamp_enabled\":{\"value\":false},\"responsive_web_settings_timeline_refresh_enabled\":{\"value\":false},\"responsive_web_settings_timeline_refresh_instant_default\":{\"value\":true},\"responsive_web_side_nav_enabled\":{\"value\":false},\"responsive_web_sports_carousel\":{\"value\":false},\"responsive_web_trends_setting_new_endpoints\":{\"value\":true},\"responsive_web_trigger_test_backoff_on_bookmark\":{\"value\":false},\"responsive_web_tweet_drafts_enabled\":{\"value\":false},\"responsive_web_tweets_pill_local_enabled\":{\"value\":true},\"responsive_web_unified_cards_live_event_enabled\":{\"value\":true},\"responsive_web_unified_cards_poll2choice_image_enabled\":{\"value\":true},\"responsive_web_unified_cards_poll2choice_video_enabled\":{\"value\":true},\"responsive_web_unified_cards_poll3choice_image_enabled\":{\"value\":true},\"responsive_web_unified_cards_poll3choice_video_enabled\":{\"value\":true},\"responsive_web_unified_cards_poll4choice_image_enabled\":{\"value\":true},\"responsive_web_unified_cards_poll4choice_video_enabled\":{\"value\":true},\"responsive_web_unsupported_entry_tombstone\":{\"value\":false},\"responsive_web_use_app_prompt_copy_variant\":{\"value\":\"\"},\"responsive_web_use_app_prompt_enabled\":{\"value\":false},\"responsive_web_verification_v2_enabled\":{\"value\":true},\"responsive_web_video_native_fullscreen_enabled\":{\"value\":true},\"responsive_web_video_promoted_logging_enabled\":{\"value\":true},\"responsive_web_vod_muted_captions_enabled\":{\"value\":true},\"responsive_web_vs_config_desktop_assumed_item_height\":{\"value\":100},\"responsive_web_vs_config_resize_observer_enabled\":{\"value\":true},\"responsive_web_zipkin_api_requests_enabled\":{\"value\":false},\"scribe_api_error_sample_size\":{\"value\":0},\"scribe_api_sample_size\":{\"value\":100},\"scribe_cdn_host_list\":{\"value\":[\"si0.twimg.com\",\"si1.twimg.com\",\"si2.twimg.com\",\"si3.twimg.com\",\"a0.twimg.com\",\"a1.twimg.com\",\"a2.twimg.com\",\"a3.twimg.com\",\"abs.twimg.com\",\"amp.twimg.com\",\"o.twimg.com\",\"pbs.twimg.com\",\"pbs-eb.twimg.com\",\"pbs-ec.twimg.com\",\"pbs-v6.twimg.com\",\"pbs-h1.twimg.com\",\"pbs-h2.twimg.com\",\"video.twimg.com\",\"platform.twitter.com\",\"cdn.api.twitter.com\",\"ton.twimg.com\",\"v.cdn.vine.co\",\"mtc.cdn.vine.co\",\"edge.vncdn.co\",\"mid.vncdn.co\"]},\"scribe_cdn_sample_size\":{\"value\":50},\"search_channels_description_enabled\":{\"value\":true},\"search_channels_discovery_page_enabled\":{\"value\":false},\"search_features_deep_link_request_params_enabled\":{\"value\":true},\"soft_interventions_forward_pivot_enabled\":{\"value\":true},\"soft_interventions_inner_qt_forward_pivot_enabled\":{\"value\":false},\"topic_landing_page_enabled\":{\"value\":true},\"topic_landing_page_share_enabled\":{\"value\":false},\"topics_descriptions_enabled\":{\"value\":true},\"topics_dismiss_control_enabled\":{\"value\":true},\"topics_follow_graphql_migration_enabled\":{\"value\":true},\"topics_followed_graphql_migration_enabled\":{\"value\":true},\"topics_new_mgmt_enabled\":{\"value\":true},\"topics_new_social_context_enabled\":{\"value\":false},\"topics_new_social_context_icon_color_enabled\":{\"value\":false},\"topics_peek_enabled\":{\"value\":false},\"topics_unfollow_graphql_migration_enabled\":{\"value\":true},\"traffic_rewrite_map\":{\"value\":[]},\"tweet_limited_actions_config_enabled\":{\"value\":true},\"tweet_limited_actions_config_non_compliant\":{\"value\":[\"reply\",\"retweet\",\"like\",\"send_via_dm\",\"add_to_bookmarks\",\"add_to_moment\",\"pin_to_profile\",\"view_tweet_activity\",\"share_tweet_via\"]},\"unified_cards_cta_color_blue_cta\":{\"value\":true},\"user_display_name_max_limit\":{\"value\":50},\"web_video_bitrate_persistence_enabled\":{\"value\":false},\"web_video_hls_android_mse_enabled\":{\"value\":true},\"web_video_hls_mp4_threshold_sec\":{\"value\":0},\"web_video_hlsjs_max_buffer_length_pause\":{\"value\":3},\"web_video_hlsjs_max_buffer_length_play\":{\"value\":3},\"web_video_hlsjs_version\":{\"value\":\"\"}},\"debug\":{},\"impression_pointers\":{\"responsive_web_redirect_to_app_enabled\":[\"rweb_redirect_to_app_10853\"]},\"impressions\":{\"rweb_redirect_to_app_10853\":{\"key\":\"rweb_redirect_to_app_10853\",\"bucket\":\"treatment\",\"version\":1}},\"featureSetToken\":\"3dc0474dc68eea27aaf52512b14217f3d762f4bd\",\"isLoaded\":true,\"isLoading\":false,\"keysRead\":{},\"settingsVersion\":\"298a80ea871a2ba09edf6ad7ee07ccef\"},\"urt\":{},\"entities\":{\"users\":{\"entities\":{},\"errors\":{},\"fetchStatus\":{}},\"tweets\":{\"entities\":{},\"errors\":{},\"fetchStatus\":{}},\"cards\":{\"entities\":{},\"errors\":{},\"fetchStatus\":{}}},\"toasts\":[],\"devices\":{\"browserPush\":{\"fetchStatus\":\"none\",\"pushNotificationsPrompt\":{\"dismissed\":false,\"fetchStatus\":\"none\"},\"subscribed\":false,\"supported\":null},\"devices\":{\"data\":{\"emails\":[],\"phone_numbers\":[]},\"fetchStatus\":\"none\"},\"notificationSettings\":{\"push_settings\":{\"error\":null,\"fetchStatus\":\"none\"},\"push_settings_template\":{\"template\":{\"settings\":[]}},\"sms_settings\":{\"error\":null,\"fetchStatus\":\"none\"},\"sms_settings_template\":{\"template\":{\"settings\":[]}},\"checkin_time\":null}},\"typeaheadUsers\":{\"fetchStatus\":\"none\",\"users\":{},\"denylist\":{},\"lastUpdated\":0,\"index\":{}},\"session\":{\"country\":\"US\",\"emailLiteLoginEligibility\":{\"fetchStatus\":\"none\"},\"guestId\":\"159664011397700069\",\"language\":\"en\",\"oneFactorLoginEligibility\":{\"fetchStatus\":\"none\"}},\"settings\":{\"local\":{\"nextPushCheckin\":0,\"shouldAutoPlayGif\":false,\"scale\":\"normal\",\"themeColor\":\"blue\",\"highContrastEnabled\":false,\"themeBackground\":\"light\",\"loginPromptLastShown\":0,\"mediaPreviewsEnabled\":true,\"reducedMotionEnabled\":false,\"conversationTreeEnabled\":false,\"showTweetMediaDetailDrawer\":true},\"remote\":{\"settings\":{\"display_sensitive_media\":false},\"fetchStatus\":\"none\"},\"dataSaver\":{\"dataSaverMode\":false},\"transient\":{\"dtabBarInfo\":{\"dtabAll\":null,\"dtabRweb\":null,\"hide\":false},\"loginPromptShown\":false,\"lastViewedDmInboxPath\":\"/messages\",\"themeFocus\":\"\"}},\"hashflags\":{\"fetchStatus\":\"none\",\"hashflags\":{}}};\n",
      "window.__META_DATA__ = {\"env\":\"prod\",\"isFromDynamicRenderer\":false,\"isLoggedIn\":false,\"isRTL\":false,\"hasMultiAccountCookie\":false,\"uaParserTags\":[\"m2\",\"rweb\",\"msw\"],\"serverDate\":1596640430733,\"sha\":\"a7630d7500b16e8336e7258f58bffc98ffd0508a\"};\n",
      "\n",
      "\n",
      "  window.__SCRIPTS_LOADED__ = {};\n",
      "  !function(e){function n(n){for(var o,t,i=n[0],c=n[1],l=n[2],u=0,s=[];u<i.length;u++)t=i[u],Object.prototype.hasOwnProperty.call(a,t)&&a[t]&&s.push(a[t][0]),a[t]=0;for(o in c)Object.prototype.hasOwnProperty.call(c,o)&&(e[o]=c[o]);for(b&&b(n);s.length;)s.shift()();return r.push.apply(r,l||[]),d()}function d(){for(var e,n=0;n<r.length;n++){for(var d=r[n],o=!0,i=1;i<d.length;i++){var c=d[i];0!==a[c]&&(o=!1)}o&&(r.splice(n--,1),e=t(t.s=d[0]))}return e}var o={},a={1:0},r=[];function t(n){if(o[n])return o[n].exports;var d=o[n]={i:n,l:!1,exports:{}};return e[n].call(d.exports,d,d.exports,t),d.l=!0,d.exports}t.e=function(e){var n=[],d=a[e];if(0!==d)if(d)n.push(d[2]);else{var o=new Promise((function(n,o){d=a[e]=[n,o]}));n.push(d[2]=o);var r,i=document.createElement(\"script\");i.charset=\"utf-8\",i.timeout=120,t.nc&&i.setAttribute(\"nonce\",t.nc),i.src=function(e){return t.p+\"\"+({0:\"sharedCore\",3:\"shared~loader.DMDrawer~bundle.Compose~bundle.RichTextCompose~bundle.DirectMessages~bundle.DMRichTextCompose~b\",4:\"shared~bundle.ComposeMedia~bundle.Display~bundle.Ocf~bundle.Settings~bundle.SettingsProfile~bundle.UserLists~\",5:\"shared~bundle.ComposeMedia~bundle.Ocf~bundle.SettingsProfile~bundle.UserLists\",6:\"shared~bundle.DirectMessages~bundle.TweetMediaDetail~bundle.UserAvatar~bundle.UserHeader\",7:\"shared~bundle.Compose~bundle.RichTextCompose~bundle.PlainTextCompose\",8:\"shared~bundle.Place~bundle.Search~bundle.QuoteTweetActivity\",9:\"shared~bundle.RichTextCompose~bundle.DMRichTextCompose~ondemand.RichText\",10:\"shared~bundle.Settings~ondemand.SettingsInternals~bundle.SettingsTransparency\",11:\"shared~loader.DMDrawer~bundle.DirectMessages~bundle.DMRichTextCompose\",12:\"shared~bundle.Display~bundle.Settings\",13:\"shared~bundle.Explore~loader.ExploreSidebar\",14:\"shared~bundle.LiveEvent~bundle.UserMoments\",15:\"shared~bundle.TopicPeek~ondemand.EmojiPicker\",16:\"shared~loader.DashMenu~bundle.Account\",17:\"shared~ondemand.lex~loaders.video.PlayerBase\",18:\"bundle.AboutThisAd\",19:\"bundle.Account\",20:\"bundle.AdvancedSearch\",22:\"bundle.Bookmarks\",23:\"bundle.Collection\",24:\"bundle.Compose\",25:\"bundle.ComposeMedia\",26:\"bundle.ConnectTab\",27:\"bundle.Conversation\",28:\"bundle.ConversationParticipants\",29:\"bundle.DMRichTextCompose\",30:\"bundle.DirectMessages\",31:\"bundle.Display\",32:\"bundle.Download\",33:\"bundle.Explore\",34:\"bundle.ExploreTopics\",35:\"bundle.FollowerRequests\",36:\"bundle.GenericTimeline\",37:\"bundle.GifSearch\",38:\"bundle.HomeTimeline\",39:\"bundle.KeyboardShortcuts\",40:\"bundle.LiveEvent\",41:\"bundle.LoggedOutHome\",42:\"bundle.Login\",43:\"bundle.Logout\",44:\"bundle.Moment\",45:\"bundle.MomentMaker\",46:\"bundle.MultiAccount\",47:\"bundle.NetworkInstrument\",48:\"bundle.NotificationDetail\",49:\"bundle.Notifications\",50:\"bundle.Ocf\",51:\"bundle.Place\",52:\"bundle.PlainTextCompose\",53:\"bundle.ProfileRedirect\",54:\"bundle.QuoteTweetActivity\",55:\"bundle.Report\",56:\"bundle.RichTextCompose\",57:\"bundle.Search\",58:\"bundle.Settings\",59:\"bundle.SettingsInternals\",60:\"bundle.SettingsProfile\",61:\"bundle.SettingsTransparency\",62:\"bundle.SmsLogin\",63:\"bundle.TopicPeek\",64:\"bundle.Topics\",65:\"bundle.Trends\",66:\"bundle.TweetActivity\",67:\"bundle.TweetMediaDetail\",68:\"bundle.TweetMediaTags\",69:\"bundle.Twitterversary\",70:\"bundle.UserAvatar\",71:\"bundle.UserFollowLists\",72:\"bundle.UserHeader\",73:\"bundle.UserLists\",74:\"bundle.UserMoments\",75:\"bundle.UserProfile\",76:\"bundle.UserRedirect\",126:\"loader.AbsolutePower\",127:\"loader.AppModules\",128:\"loader.DMDrawer\",129:\"loader.DashMenu\",130:\"loader.ExploreSidebar\",131:\"loader.FeedbackSheet\",132:\"loader.FeedbackTombstone\",133:\"loader.HWCard\",134:\"loader.NewTweetsPill\",135:\"loader.PeriscopeOverlay\",136:\"loader.ProfileClusterFollow\",137:\"loader.PushNotificationsPrompt\",138:\"loader.SideNav\",139:\"loader.SignupModule\",140:\"loader.TimelineGap\",141:\"loader.TimelineRenderer\",142:\"loader.TweetCurationActionMenu\",143:\"loader.TweetPhotos\",144:\"loader.Typeahead\",145:\"loader.WideLayout\",146:\"loader.directMessagesData\",147:\"loader.graphQLDarkReads\",148:\"loader.personalizationData\",149:\"loaders.video.PlayerBase\",150:\"loaders.video.PlayerHls13\",151:\"loaders.video.PlayerUi\",152:\"loaders.video.VideoPlayerDefaultUI\",154:\"ondemand.Balloons\",155:\"ondemand.BranchSdk\",156:\"ondemand.CarouselScroller\",157:\"ondemand.ComposeScheduling\",158:\"ondemand.Dropdown\",159:\"ondemand.EditBirthdate\",160:\"ondemand.EditPinned\",161:\"ondemand.EmojiPicker\",162:\"ondemand.HoverCard\",163:\"ondemand.InlinePlayer\",164:\"ondemand.IntentPrompt\",165:\"ondemand.LottieWeb\",166:\"ondemand.MicrosoftInterface\",167:\"ondemand.ProfileSidebar\",168:\"ondemand.RichText\",169:\"ondemand.SettingsInternals\",170:\"ondemand.countries-ar\",171:\"ondemand.countries-bg\",172:\"ondemand.countries-bn\",173:\"ondemand.countries-ca\",174:\"ondemand.countries-cs\",175:\"ondemand.countries-da\",176:\"ondemand.countries-de\",177:\"ondemand.countries-el\",178:\"ondemand.countries-en\",179:\"ondemand.countries-en-GB\",180:\"ondemand.countries-es\",181:\"ondemand.countries-eu\",182:\"ondemand.countries-fa\",183:\"ondemand.countries-fi\",184:\"ondemand.countries-fil\",185:\"ondemand.countries-fr\",186:\"ondemand.countries-ga\",187:\"ondemand.countries-gl\",188:\"ondemand.countries-gu\",189:\"ondemand.countries-he\",190:\"ondemand.countries-hi\",191:\"ondemand.countries-hr\",192:\"ondemand.countries-hu\",193:\"ondemand.countries-id\",194:\"ondemand.countries-it\",195:\"ondemand.countries-ja\",196:\"ondemand.countries-kn\",197:\"ondemand.countries-ko\",198:\"ondemand.countries-mr\",199:\"ondemand.countries-ms\",200:\"ondemand.countries-nb\",201:\"ondemand.countries-nl\",202:\"ondemand.countries-pl\",203:\"ondemand.countries-pt\",204:\"ondemand.countries-ro\",205:\"ondemand.countries-ru\",206:\"ondemand.countries-sk\",207:\"ondemand.countries-sr\",208:\"ondemand.countries-sv\",209:\"ondemand.countries-ta\",210:\"ondemand.countries-th\",211:\"ondemand.countries-tr\",212:\"ondemand.countries-uk\",213:\"ondemand.countries-ur\",214:\"ondemand.countries-zh\",215:\"ondemand.countries-zh-Hant\",216:\"ondemand.emoji.ar\",217:\"ondemand.emoji.bg\",218:\"ondemand.emoji.bn\",219:\"ondemand.emoji.ca\",220:\"ondemand.emoji.cs\",221:\"ondemand.emoji.da\",222:\"ondemand.emoji.de\",223:\"ondemand.emoji.el\",224:\"ondemand.emoji.en\",225:\"ondemand.emoji.en-GB\",226:\"ondemand.emoji.en-ss\",227:\"ondemand.emoji.en-xx\",228:\"ondemand.emoji.es\",229:\"ondemand.emoji.eu\",230:\"ondemand.emoji.fa\",231:\"ondemand.emoji.fi\",232:\"ondemand.emoji.fil\",233:\"ondemand.emoji.fr\",234:\"ondemand.emoji.ga\",235:\"ondemand.emoji.gl\",236:\"ondemand.emoji.gu\",237:\"ondemand.emoji.he\",238:\"ondemand.emoji.hi\",239:\"ondemand.emoji.hr\",240:\"ondemand.emoji.hu\",241:\"ondemand.emoji.id\",242:\"ondemand.emoji.it\",243:\"ondemand.emoji.ja\",244:\"ondemand.emoji.kn\",245:\"ondemand.emoji.ko\",246:\"ondemand.emoji.mr\",247:\"ondemand.emoji.ms\",248:\"ondemand.emoji.nb\",249:\"ondemand.emoji.nl\",250:\"ondemand.emoji.pl\",251:\"ondemand.emoji.pt\",252:\"ondemand.emoji.ro\",253:\"ondemand.emoji.ru\",254:\"ondemand.emoji.sk\",255:\"ondemand.emoji.sr\",256:\"ondemand.emoji.sv\",257:\"ondemand.emoji.ta\",258:\"ondemand.emoji.th\",259:\"ondemand.emoji.tr\",260:\"ondemand.emoji.uk\",261:\"ondemand.emoji.ur\",262:\"ondemand.emoji.vi\",263:\"ondemand.emoji.zh\",264:\"ondemand.emoji.zh-Hant\",265:\"ondemand.framerateTracking\",266:\"ondemand.lex\",267:\"ondemand.video.PlayerHls12\"}[e]||e)+\".\"+{0:\"d314c7c\",3:\"90a3ddf\",4:\"d6dbf54\",5:\"61bd9d6\",6:\"93802da\",7:\"9353cdb\",8:\"6bef1de\",9:\"1391dcd\",10:\"0f03bfa\",11:\"c1855c7\",12:\"589a4ec\",13:\"41c9c06\",14:\"66c9e52\",15:\"94bb32c\",16:\"df722a0\",17:\"80732ac\",18:\"884ee9e\",19:\"bd24cc1\",20:\"57c8dae\",21:\"ba31ccb\",22:\"0514577\",23:\"d4c347f\",24:\"002bb9b\",25:\"f955b16\",26:\"27e6f11\",27:\"039ce03\",28:\"20107ea\",29:\"0c521b7\",30:\"1d438ab\",31:\"ee31bae\",32:\"f3a2644\",33:\"5282519\",34:\"ea9d616\",35:\"4ebf2c2\",36:\"72171f2\",37:\"95f0bfc\",38:\"06ce143\",39:\"9f6ae19\",40:\"452336e\",41:\"d96fbb7\",42:\"bb3b4ad\",43:\"cc66e86\",44:\"9ecc52b\",45:\"c83814c\",46:\"b318a8b\",47:\"22c6943\",48:\"d05575a\",49:\"ecb1e82\",50:\"a76fc71\",51:\"81c6d9d\",52:\"2b97c08\",53:\"5f2f02d\",54:\"fd352bb\",55:\"b6def5d\",56:\"a4ca0fb\",57:\"a6450ff\",58:\"e1cdd88\",59:\"17bbd20\",60:\"1a6a8cd\",61:\"bccae19\",62:\"7071322\",63:\"1bc9365\",64:\"078f0a5\",65:\"a2d1dfb\",66:\"a6326fd\",67:\"721ddd9\",68:\"8e3b73e\",69:\"7d3d0f4\",70:\"6a031db\",71:\"ee8115e\",72:\"2cc0c9e\",73:\"5f77a3e\",74:\"20eb9ff\",75:\"1e43309\",76:\"70618d4\",126:\"d1ef239\",127:\"bc49fd3\",128:\"96cd225\",129:\"6dc6af9\",130:\"e2041fd\",131:\"d313d97\",132:\"b6a10d6\",133:\"e0d1888\",134:\"6449fb1\",135:\"06161bf\",136:\"6d86481\",137:\"d4e5fc9\",138:\"7a4c1b2\",139:\"35dadf5\",140:\"bd828c2\",141:\"ea52fd3\",142:\"b171619\",143:\"ad7cb69\",144:\"1e62f5e\",145:\"3f0b0b0\",146:\"6590ced\",147:\"c8afb62\",148:\"94260de\",149:\"9a9a706\",150:\"eeca360\",151:\"199ac3a\",152:\"df7ef15\",154:\"9613910\",155:\"9890352\",156:\"54a0c26\",157:\"7ae841a\",158:\"2b667cc\",159:\"4a60092\",160:\"66a9e75\",161:\"f56b5bb\",162:\"98f29bf\",163:\"a15c77f\",164:\"0087327\",165:\"2abc942\",166:\"5d2917a\",167:\"dd14454\",168:\"10e8028\",169:\"bb35195\",170:\"b9642e6\",171:\"2383db2\",172:\"967c26a\",173:\"2420b0b\",174:\"01a5d5b\",175:\"d90413f\",176:\"dc38403\",177:\"234f52e\",178:\"431ac40\",179:\"d2f2358\",180:\"1f8c2f3\",181:\"5563e67\",182:\"b18f69b\",183:\"db23391\",184:\"af1eee7\",185:\"c3fa439\",186:\"03626b7\",187:\"7510c4a\",188:\"b7cfa18\",189:\"a648bce\",190:\"3bc8602\",191:\"8e5f04e\",192:\"51ce646\",193:\"fde8bf9\",194:\"2c1204c\",195:\"12624a1\",196:\"c9fb93d\",197:\"e87795e\",198:\"aedfd81\",199:\"0ff0a63\",200:\"bcdc18d\",201:\"ccb9264\",202:\"513aaa6\",203:\"58c749b\",204:\"d1b1c30\",205:\"6fdd825\",206:\"4be7343\",207:\"25d3cfa\",208:\"d43ab53\",209:\"fef2f6b\",210:\"0b3f2cb\",211:\"6619575\",212:\"c478e15\",213:\"9770759\",214:\"8ccf797\",215:\"6dbb07e\",216:\"bf59ccb\",217:\"737b419\",218:\"93c6d94\",219:\"342a161\",220:\"67bd008\",221:\"4647c78\",222:\"7a1814e\",223:\"3a4baac\",224:\"6609e60\",225:\"b75498a\",226:\"70f0f74\",227:\"3d07c43\",228:\"776ba6a\",229:\"9a4d2b7\",230:\"d33e513\",231:\"1a84633\",232:\"06faca2\",233:\"034cd04\",234:\"7a92f1b\",235:\"f5f1f8c\",236:\"f327160\",237:\"4614306\",238:\"5dba7f0\",239:\"0ad4831\",240:\"a8c7867\",241:\"c0cd56c\",242:\"da03760\",243:\"dadec89\",244:\"2013d94\",245:\"412e5c3\",246:\"c8bbd6c\",247:\"95b5ed2\",248:\"a0b5eab\",249:\"d23da47\",250:\"a749d75\",251:\"b9a2011\",252:\"68f64bf\",253:\"2919b50\",254:\"c0a5ec5\",255:\"bd782ed\",256:\"bfc8c40\",257:\"dc6fecd\",258:\"4a5e430\",259:\"c12bbbf\",260:\"1b61a69\",261:\"0c46e3e\",262:\"05c51c0\",263:\"3fbf40f\",264:\"16ee816\",265:\"0782ce4\",266:\"80ae583\",267:\"54c8fd6\"}[e]+\"5.js\"}(e);var c=new Error;r=function(n){i.onerror=i.onload=null,clearTimeout(l);var d=a[e];if(0!==d){if(d){var o=n&&(\"load\"===n.type?\"missing\":n.type),r=n&&n.target&&n.target.src;c.message=\"Loading chunk \"+e+\" failed.\\n(\"+o+\": \"+r+\")\",c.name=\"ChunkLoadError\",c.type=o,c.request=r,d[1](c)}a[e]=void 0}};var l=setTimeout((function(){r({type:\"timeout\",target:i})}),12e4);i.onerror=i.onload=r,document.head.appendChild(i)}return Promise.all(n)},t.m=e,t.c=o,t.d=function(e,n,d){t.o(e,n)||Object.defineProperty(e,n,{enumerable:!0,get:d})},t.r=function(e){\"undefined\"!=typeof Symbol&&Symbol.toStringTag&&Object.defineProperty(e,Symbol.toStringTag,{value:\"Module\"}),Object.defineProperty(e,\"__esModule\",{value:!0})},t.t=function(e,n){if(1&n&&(e=t(e)),8&n)return e;if(4&n&&\"object\"==typeof e&&e&&e.__esModule)return e;var d=Object.create(null);if(t.r(d),Object.defineProperty(d,\"default\",{enumerable:!0,value:e}),2&n&&\"string\"!=typeof e)for(var o in e)t.d(d,o,function(n){return e[n]}.bind(null,o));return d},t.n=function(e){var n=e&&e.__esModule?function(){return e.default}:function(){return e};return t.d(n,\"a\",n),n},t.o=function(e,n){return Object.prototype.hasOwnProperty.call(e,n)},t.p=\"https://abs.twimg.com/responsive-web/web_legacy/\",t.oe=function(e){throw e};var i=window.webpackJsonp=window.webpackJsonp||[],c=i.push.bind(i);i.push=n,i=i.slice();for(var l=0;l<i.length;l++)n(i[l]);var b=c;d()}([]),window.__SCRIPTS_LOADED__.runtime=!0;\n",
      "//# sourceMappingURL=runtime.0ff53b15.js.map\n",
      "\n",
      "\n",
      "\n",
      "\n",
      "\n",
      "\n",
      "  if (!window.__SCRIPTS_LOADED__['main']) {\n",
      "    document.getElementById('ScriptLoadFailure').style.display = 'block';\n",
      "  }\n",
      "\n",
      "\n"
     ]
    }
   ],
   "source": [
    "html_weather = browser.html\n",
    "soup = BeautifulSoup(html_weather, \"html.parser\")\n",
    "mars_weather = soup.find().text\n",
    "print(mars_weather)"
   ]
  },
  {
   "cell_type": "markdown",
   "metadata": {},
   "source": [
    "# Mars Facts"
   ]
  },
  {
   "cell_type": "code",
   "execution_count": 93,
   "metadata": {},
   "outputs": [
    {
     "data": {
      "text/html": [
       "<div>\n",
       "<style scoped>\n",
       "    .dataframe tbody tr th:only-of-type {\n",
       "        vertical-align: middle;\n",
       "    }\n",
       "\n",
       "    .dataframe tbody tr th {\n",
       "        vertical-align: top;\n",
       "    }\n",
       "\n",
       "    .dataframe thead th {\n",
       "        text-align: right;\n",
       "    }\n",
       "</style>\n",
       "<table border=\"1\" class=\"dataframe\">\n",
       "  <thead>\n",
       "    <tr style=\"text-align: right;\">\n",
       "      <th></th>\n",
       "      <th>0</th>\n",
       "      <th>1</th>\n",
       "    </tr>\n",
       "  </thead>\n",
       "  <tbody>\n",
       "    <tr>\n",
       "      <th>0</th>\n",
       "      <td>Equatorial Diameter:</td>\n",
       "      <td>6,792 km</td>\n",
       "    </tr>\n",
       "    <tr>\n",
       "      <th>1</th>\n",
       "      <td>Polar Diameter:</td>\n",
       "      <td>6,752 km</td>\n",
       "    </tr>\n",
       "    <tr>\n",
       "      <th>2</th>\n",
       "      <td>Mass:</td>\n",
       "      <td>6.39 × 10^23 kg (0.11 Earths)</td>\n",
       "    </tr>\n",
       "    <tr>\n",
       "      <th>3</th>\n",
       "      <td>Moons:</td>\n",
       "      <td>2 (Phobos &amp; Deimos)</td>\n",
       "    </tr>\n",
       "    <tr>\n",
       "      <th>4</th>\n",
       "      <td>Orbit Distance:</td>\n",
       "      <td>227,943,824 km (1.38 AU)</td>\n",
       "    </tr>\n",
       "    <tr>\n",
       "      <th>5</th>\n",
       "      <td>Orbit Period:</td>\n",
       "      <td>687 days (1.9 years)</td>\n",
       "    </tr>\n",
       "    <tr>\n",
       "      <th>6</th>\n",
       "      <td>Surface Temperature:</td>\n",
       "      <td>-87 to -5 °C</td>\n",
       "    </tr>\n",
       "    <tr>\n",
       "      <th>7</th>\n",
       "      <td>First Record:</td>\n",
       "      <td>2nd millennium BC</td>\n",
       "    </tr>\n",
       "    <tr>\n",
       "      <th>8</th>\n",
       "      <td>Recorded By:</td>\n",
       "      <td>Egyptian astronomers</td>\n",
       "    </tr>\n",
       "  </tbody>\n",
       "</table>\n",
       "</div>"
      ],
      "text/plain": [
       "                      0                              1\n",
       "0  Equatorial Diameter:                       6,792 km\n",
       "1       Polar Diameter:                       6,752 km\n",
       "2                 Mass:  6.39 × 10^23 kg (0.11 Earths)\n",
       "3                Moons:            2 (Phobos & Deimos)\n",
       "4       Orbit Distance:       227,943,824 km (1.38 AU)\n",
       "5         Orbit Period:           687 days (1.9 years)\n",
       "6  Surface Temperature:                   -87 to -5 °C\n",
       "7         First Record:              2nd millennium BC\n",
       "8          Recorded By:           Egyptian astronomers"
      ]
     },
     "execution_count": 93,
     "metadata": {},
     "output_type": "execute_result"
    }
   ],
   "source": [
    "mars_facts_url = \"https://space-facts.com/mars/\"\n",
    "table = pd.read_html(mars_facts_url)\n",
    "table[0]"
   ]
  },
  {
   "cell_type": "code",
   "execution_count": 94,
   "metadata": {},
   "outputs": [
    {
     "data": {
      "text/html": [
       "<div>\n",
       "<style scoped>\n",
       "    .dataframe tbody tr th:only-of-type {\n",
       "        vertical-align: middle;\n",
       "    }\n",
       "\n",
       "    .dataframe tbody tr th {\n",
       "        vertical-align: top;\n",
       "    }\n",
       "\n",
       "    .dataframe thead th {\n",
       "        text-align: right;\n",
       "    }\n",
       "</style>\n",
       "<table border=\"1\" class=\"dataframe\">\n",
       "  <thead>\n",
       "    <tr style=\"text-align: right;\">\n",
       "      <th></th>\n",
       "      <th>Values</th>\n",
       "    </tr>\n",
       "    <tr>\n",
       "      <th>Facts</th>\n",
       "      <th></th>\n",
       "    </tr>\n",
       "  </thead>\n",
       "  <tbody>\n",
       "    <tr>\n",
       "      <th>Equatorial Diameter:</th>\n",
       "      <td>6,792 km</td>\n",
       "    </tr>\n",
       "    <tr>\n",
       "      <th>Polar Diameter:</th>\n",
       "      <td>6,752 km</td>\n",
       "    </tr>\n",
       "    <tr>\n",
       "      <th>Mass:</th>\n",
       "      <td>6.39 × 10^23 kg (0.11 Earths)</td>\n",
       "    </tr>\n",
       "    <tr>\n",
       "      <th>Moons:</th>\n",
       "      <td>2 (Phobos &amp; Deimos)</td>\n",
       "    </tr>\n",
       "    <tr>\n",
       "      <th>Orbit Distance:</th>\n",
       "      <td>227,943,824 km (1.38 AU)</td>\n",
       "    </tr>\n",
       "    <tr>\n",
       "      <th>Orbit Period:</th>\n",
       "      <td>687 days (1.9 years)</td>\n",
       "    </tr>\n",
       "    <tr>\n",
       "      <th>Surface Temperature:</th>\n",
       "      <td>-87 to -5 °C</td>\n",
       "    </tr>\n",
       "    <tr>\n",
       "      <th>First Record:</th>\n",
       "      <td>2nd millennium BC</td>\n",
       "    </tr>\n",
       "    <tr>\n",
       "      <th>Recorded By:</th>\n",
       "      <td>Egyptian astronomers</td>\n",
       "    </tr>\n",
       "  </tbody>\n",
       "</table>\n",
       "</div>"
      ],
      "text/plain": [
       "                                             Values\n",
       "Facts                                              \n",
       "Equatorial Diameter:                       6,792 km\n",
       "Polar Diameter:                            6,752 km\n",
       "Mass:                 6.39 × 10^23 kg (0.11 Earths)\n",
       "Moons:                          2 (Phobos & Deimos)\n",
       "Orbit Distance:            227,943,824 km (1.38 AU)\n",
       "Orbit Period:                  687 days (1.9 years)\n",
       "Surface Temperature:                   -87 to -5 °C\n",
       "First Record:                     2nd millennium BC\n",
       "Recorded By:                   Egyptian astronomers"
      ]
     },
     "execution_count": 94,
     "metadata": {},
     "output_type": "execute_result"
    }
   ],
   "source": [
    "df_mars_facts = table[0]\n",
    "df_mars_facts.columns = [\"Facts\", \"Values\"]\n",
    "df_mars_facts.set_index([\"Facts\"])"
   ]
  },
  {
   "cell_type": "code",
   "execution_count": 95,
   "metadata": {},
   "outputs": [
    {
     "data": {
      "text/plain": [
       "'<table border=\"1\" class=\"dataframe\">  <thead>    <tr style=\"text-align: right;\">      <th></th>      <th>Facts</th>      <th>Values</th>    </tr>  </thead>  <tbody>    <tr>      <th>0</th>      <td>Equatorial Diameter:</td>      <td>6,792 km</td>    </tr>    <tr>      <th>1</th>      <td>Polar Diameter:</td>      <td>6,752 km</td>    </tr>    <tr>      <th>2</th>      <td>Mass:</td>      <td>6.39 × 10^23 kg (0.11 Earths)</td>    </tr>    <tr>      <th>3</th>      <td>Moons:</td>      <td>2 (Phobos &amp; Deimos)</td>    </tr>    <tr>      <th>4</th>      <td>Orbit Distance:</td>      <td>227,943,824 km (1.38 AU)</td>    </tr>    <tr>      <th>5</th>      <td>Orbit Period:</td>      <td>687 days (1.9 years)</td>    </tr>    <tr>      <th>6</th>      <td>Surface Temperature:</td>      <td>-87 to -5 °C</td>    </tr>    <tr>      <th>7</th>      <td>First Record:</td>      <td>2nd millennium BC</td>    </tr>    <tr>      <th>8</th>      <td>Recorded By:</td>      <td>Egyptian astronomers</td>    </tr>  </tbody></table>'"
      ]
     },
     "execution_count": 95,
     "metadata": {},
     "output_type": "execute_result"
    }
   ],
   "source": [
    "mars_html_table = df_mars_facts.to_html()\n",
    "mars_html_table = mars_html_table.replace(\"\\n\", \"\")\n",
    "mars_html_table"
   ]
  },
  {
   "cell_type": "markdown",
   "metadata": {},
   "source": [
    "# Mars Hemispheres"
   ]
  },
  {
   "cell_type": "code",
   "execution_count": 96,
   "metadata": {},
   "outputs": [
    {
     "name": "stdout",
     "output_type": "stream",
     "text": [
      "https://astrogeology.usgs.gov/\n"
     ]
    }
   ],
   "source": [
    "url_hemisphere = \"https://astrogeology.usgs.gov/search/results?q=hemisphere+enhanced&k1=target&v1=Mars\"\n",
    "browser.visit(url_hemisphere)\n",
    "hemisphere_base_url = \"{0.scheme}://{0.netloc}/\".format(urlsplit(url_hemisphere))\n",
    "print(hemisphere_base_url)"
   ]
  },
  {
   "cell_type": "markdown",
   "metadata": {},
   "source": [
    "Cerberus-Hemisphere"
   ]
  },
  {
   "cell_type": "code",
   "execution_count": 97,
   "metadata": {},
   "outputs": [],
   "source": [
    "url_cerberus = \"https://astrogeology.usgs.gov/search/map/Mars/Viking/cerberus_enhanced\"\n",
    "browser.visit(url_cerberus)\n",
    "response_cerberus = browser.html\n",
    "soup4 = BeautifulSoup(response_cerberus, 'html.parser')\n",
    "cerberus_img = soup4.find_all('div', class_=\"wide-image-wrapper\")\n",
    "for img in cerberus_img:\n",
    "        pic_cerberus = img.find('li')\n",
    "        cerberus_full_img = pic_cerberus.find('a')['href']\n",
    "cerberus_title = soup4.find('h2', class_='title').get_text()\n",
    "cerberus_hem = {\"Title\": cerberus_title, \"url\": cerberus_full_img}\n",
    "hemisphere_image_urls.append(cerberus_hem)"
   ]
  },
  {
   "cell_type": "markdown",
   "metadata": {},
   "source": [
    "Schiaparelli-Hemisphere"
   ]
  },
  {
   "cell_type": "code",
   "execution_count": 98,
   "metadata": {},
   "outputs": [],
   "source": [
    "url_schiaparelli = \"https://astrogeology.usgs.gov/search/map/Mars/Viking/schiaparelli_enhanced\"\n",
    "browser.visit(url_cerberus)\n",
    "response_schiaparelli = browser.html\n",
    "soup5 = BeautifulSoup(response_schiaparelli, 'html.parser')\n",
    "schiaparelli_img = soup5.find_all('div', class_=\"wide-image-wrapper\")\n",
    "for img in schiaparelli_img:\n",
    "        pic_schiaparelli = img.find('li')\n",
    "        schiaparelli_full_img = pic_schiaparelli.find('a')['href']\n",
    "shiaparelli_title = soup5.find('h2', class_='title').get_text()\n",
    "shiaparelli_hem = {\"Title\": shiaparelli_title, \"url\": schiaparelli_full_img}\n",
    "hemisphere_image_urls.append(shiaparelli_hem)"
   ]
  },
  {
   "cell_type": "markdown",
   "metadata": {},
   "source": [
    "Syrtis Major Hemisphere"
   ]
  },
  {
   "cell_type": "code",
   "execution_count": 99,
   "metadata": {},
   "outputs": [],
   "source": [
    "url_syrtis = ('https://astrogeology.usgs.gov/search/map/Mars/Viking/syrtis_major_enhanced')\n",
    "browser.visit(url_syrtis)\n",
    "response_syrtis = browser.html\n",
    "soup6 = BeautifulSoup(response_syrtis, 'html.parser')\n",
    "syrtris_img = soup6.find_all('div', class_=\"wide-image-wrapper\")\n",
    "for img in syrtris_img:\n",
    "        pic_syrtris = img.find('li')\n",
    "        syrtris_full_img = pic_syrtris.find('a')['href']\n",
    "syrtris_title = soup6.find('h2', class_='title').get_text()\n",
    "syrtris_hem = {\"Title\": syrtris_title, \"url\": syrtris_full_img}\n",
    "hemisphere_image_urls.append(syrtris_hem)"
   ]
  },
  {
   "cell_type": "markdown",
   "metadata": {},
   "source": [
    "Valles Marineris Hemisphere"
   ]
  },
  {
   "cell_type": "code",
   "execution_count": 100,
   "metadata": {},
   "outputs": [],
   "source": [
    "url_valles = ('https://astrogeology.usgs.gov/search/map/Mars/Viking/valles_marineris_enhanced')\n",
    "browser.visit(url_valles)\n",
    "response_valles = browser.html\n",
    "soup7 = BeautifulSoup(response_valles, 'html.parser')\n",
    "valles_img = soup7.find_all('div', class_=\"wide-image-wrapper\")\n",
    "for img in valles_img:\n",
    "        pic_valles = img.find('li')\n",
    "        valles_full_img = pic_valles.find('a')['href']\n",
    "valles_title = soup7.find('h2', class_='title').get_text()\n",
    "valles_hem = {\"Title\": valles_title, \"url\": valles_full_img}\n",
    "hemisphere_image_urls.append(valles_hem)"
   ]
  },
  {
   "cell_type": "code",
   "execution_count": 105,
   "metadata": {},
   "outputs": [
    {
     "data": {
      "text/plain": [
       "[{'Title': 'Cerberus Hemisphere Enhanced',\n",
       "  'url': 'https://astropedia.astrogeology.usgs.gov/download/Mars/Viking/cerberus_enhanced.tif/full.jpg'},\n",
       " {'Title': 'Cerberus Hemisphere Enhanced',\n",
       "  'url': 'https://astropedia.astrogeology.usgs.gov/download/Mars/Viking/cerberus_enhanced.tif/full.jpg'},\n",
       " {'Title': 'Syrtis Major Hemisphere Enhanced',\n",
       "  'url': 'https://astropedia.astrogeology.usgs.gov/download/Mars/Viking/syrtis_major_enhanced.tif/full.jpg'},\n",
       " {'Title': 'Valles Marineris Hemisphere Enhanced',\n",
       "  'url': 'https://astropedia.astrogeology.usgs.gov/download/Mars/Viking/valles_marineris_enhanced.tif/full.jpg'},\n",
       " {'Title': 'Cerberus Hemisphere Enhanced',\n",
       "  'url': 'https://astropedia.astrogeology.usgs.gov/download/Mars/Viking/cerberus_enhanced.tif/full.jpg'},\n",
       " {'Title': 'Cerberus Hemisphere Enhanced',\n",
       "  'url': 'https://astropedia.astrogeology.usgs.gov/download/Mars/Viking/cerberus_enhanced.tif/full.jpg'},\n",
       " {'Title': 'Syrtis Major Hemisphere Enhanced',\n",
       "  'url': 'https://astropedia.astrogeology.usgs.gov/download/Mars/Viking/syrtis_major_enhanced.tif/full.jpg'},\n",
       " {'Title': 'Valles Marineris Hemisphere Enhanced',\n",
       "  'url': 'https://astropedia.astrogeology.usgs.gov/download/Mars/Viking/valles_marineris_enhanced.tif/full.jpg'}]"
      ]
     },
     "execution_count": 105,
     "metadata": {},
     "output_type": "execute_result"
    }
   ],
   "source": [
    "hemisphere_image_urls"
   ]
  },
  {
   "cell_type": "code",
   "execution_count": null,
   "metadata": {},
   "outputs": [],
   "source": []
  },
  {
   "cell_type": "code",
   "execution_count": null,
   "metadata": {},
   "outputs": [],
   "source": []
  }
 ],
 "metadata": {
  "kernelspec": {
   "display_name": "Python 3",
   "language": "python",
   "name": "python3"
  },
  "language_info": {
   "codemirror_mode": {
    "name": "ipython",
    "version": 3
   },
   "file_extension": ".py",
   "mimetype": "text/x-python",
   "name": "python",
   "nbconvert_exporter": "python",
   "pygments_lexer": "ipython3",
   "version": "3.7.6"
  }
 },
 "nbformat": 4,
 "nbformat_minor": 4
}
